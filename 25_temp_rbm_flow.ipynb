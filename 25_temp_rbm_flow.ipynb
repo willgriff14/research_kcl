{
 "cells": [
  {
   "cell_type": "code",
   "execution_count": 15,
   "id": "8d450a2e-0f87-40f4-b96a-e9d2bd9a4936",
   "metadata": {},
   "outputs": [],
   "source": [
    "# define the RBM\n",
    "\n",
    "import numpy as np\n",
    "\n",
    "class RBM:\n",
    "    def __init__(self, num_visible, num_hidden):\n",
    "        # Initialize the number of visible and hidden units\n",
    "        self.num_visible = num_visible\n",
    "        self.num_hidden = num_hidden\n",
    "\n",
    "        # Initialize weights with normally distributed random values, and biases with zeros\n",
    "        self.weights = np.random.normal(scale=0.1, size=(num_visible, num_hidden))\n",
    "        self.visible_bias = np.zeros(num_visible)\n",
    "        self.hidden_bias = np.zeros(num_hidden)\n",
    "\n",
    "    def _sigmoid(self, x):\n",
    "        # Sigmoid activation function used for calculating probabilities\n",
    "        return 1 / (1 + np.exp(-x))\n",
    "\n",
    "    def train(self, data, num_epochs=100, initial_learning_rate=0.1, decay_rate=0.1):\n",
    "        num_samples = data.shape[0]  # Number of training samples\n",
    "        losses = []  # List to keep track of loss per epoch\n",
    "\n",
    "        for epoch in range(num_epochs):\n",
    "            # Decay learning rate as training progresses\n",
    "            learning_rate = initial_learning_rate * np.exp(-decay_rate * epoch)\n",
    "\n",
    "            # Positive phase - calculate the probabilities of the hidden units given the visible units\n",
    "            hidden_prob = self._sigmoid(np.dot(data, self.weights) + self.hidden_bias)\n",
    "            hidden_state = self._sample(hidden_prob)  # Sample from the calculated probabilities\n",
    "\n",
    "            # Negative phase - reconstruct the visible units from the sampled hidden states\n",
    "            visible_recon_prob = self._sigmoid(np.dot(hidden_state, self.weights.T) + self.visible_bias)\n",
    "            visible_recon_state = self._sample(visible_recon_prob)  # Sample from the reconstructed probabilities\n",
    "            hidden_recon_prob = self._sigmoid(np.dot(visible_recon_state, self.weights) + self.hidden_bias)\n",
    "\n",
    "            # Calculate reconstruction error\n",
    "            loss = np.mean((data - visible_recon_state) ** 2)\n",
    "            losses.append(loss)  # Append loss for the epoch to the list\n",
    "\n",
    "            # Update weights using Contrastive Divergence (CD)\n",
    "            positive_associations = np.dot(data.T, hidden_prob)  # Positive phase associations\n",
    "            negative_associations = np.dot(visible_recon_state.T, hidden_recon_prob)  # Negative phase associations\n",
    "            self.weights += learning_rate * (positive_associations - negative_associations) / num_samples\n",
    "            self.visible_bias += learning_rate * (np.sum(data - visible_recon_state, axis=0)) / num_samples\n",
    "            self.hidden_bias += learning_rate * (np.sum(hidden_prob - hidden_recon_prob, axis=0)) / num_samples\n",
    "\n",
    "        return losses\n",
    "\n",
    "    def _sample(self, prob):\n",
    "        # Sample binary states based on probabilities (stochastic binary units)\n",
    "        return (np.random.random(size=prob.shape) < prob).astype(np.float32)\n",
    "    \n",
    "    def generate_sequence(self, initial_state, num_steps):\n",
    "        # Generate a sequence of visible states by iteratively passing through hidden and visible layers\n",
    "        state = initial_state\n",
    "        sequence = []\n",
    "\n",
    "        for step in range(num_steps):\n",
    "            # Compute hidden units given the visible state\n",
    "            hidden_prob = self._sigmoid(np.dot(state, self.weights) + self.hidden_bias)\n",
    "            hidden_state = self._sample(hidden_prob)\n",
    "\n",
    "            # Compute visible units given the hidden state\n",
    "            visible_prob = self._sigmoid(np.dot(hidden_state, self.weights.T) + self.visible_bias)\n",
    "            state = self._sample(visible_prob)\n",
    "\n",
    "            sequence.append(state)\n",
    "\n",
    "        return np.array(sequence)\n",
    "    \n",
    "    def free_energy(self, v):\n",
    "\n",
    "    # Compute the free energy of the visible units.\n",
    "    # 'v' is the visible units vector.\n",
    "    \n",
    "        hidden_term = np.sum(np.log(1 + np.exp(self.hidden_bias + np.dot(v, self.weights))), axis=1)\n",
    "        return -np.dot(v, self.visible_bias) - hidden_term\n",
    "    \n",
    "    def to_spin(self, prob):\n",
    "        # Convert probabilities to binary spin states (-1 or 1)\n",
    "        return np.where(np.random.random(size=prob.shape) < prob, 1, -1)\n",
    "\n",
    "    def _sample_hidden(self, visible):\n",
    "        # Compute the hidden states given the visible states\n",
    "        hidden_activations = np.dot(visible, self.weights) + self.hidden_bias\n",
    "        hidden_prob = self._sigmoid(hidden_activations)\n",
    "        return self.to_spin(hidden_prob)\n",
    "\n",
    "    def _sample_visible(self, hidden):\n",
    "        # Compute the visible states given the hidden states\n",
    "        visible_activations = np.dot(hidden, self.weights.T) + self.visible_bias\n",
    "        visible_prob = self._sigmoid(visible_activations)\n",
    "        return self.to_spin(visible_prob)\n"
   ]
  },
  {
   "cell_type": "code",
   "execution_count": 16,
   "id": "b72c3ca9-e8c4-4368-8ee5-c223a3923ee7",
   "metadata": {},
   "outputs": [],
   "source": [
    "# import trained RBM (its trained state information)\n",
    "\n",
    "import pickle\n",
    "\n",
    "with open('trained_rbm.pkl', 'rb') as file:\n",
    "    trained_rbm = pickle.load(file)"
   ]
  },
  {
   "cell_type": "code",
   "execution_count": 18,
   "id": "9e95bb37-ffe9-44b0-9cc5-a877bc7076c4",
   "metadata": {},
   "outputs": [],
   "source": [
    "# import 25 temp dataset\n",
    "\n",
    "configs_25_temps = np.load('rbm_data_25_temps.npy')"
   ]
  },
  {
   "cell_type": "code",
   "execution_count": 25,
   "id": "e1aeaac4-5bb9-45db-ac5b-9d3ae2649712",
   "metadata": {},
   "outputs": [
    {
     "name": "stdout",
     "output_type": "stream",
     "text": [
      "(50000, 100)\n",
      "100\n"
     ]
    }
   ],
   "source": [
    "# need shape (50000,100)\n",
    "\n",
    "print(configs_25_temps.shape) # This should print (50000, 100)\n",
    "print(len(trained_rbm.visible_bias)) # This should print 100\n"
   ]
  },
  {
   "cell_type": "code",
   "execution_count": 26,
   "id": "991c8522-296f-4669-8b93-81461dbb5f86",
   "metadata": {},
   "outputs": [],
   "source": [
    "# reshape as required\n",
    "\n",
    "configs_25_temps = configs_25_temps.reshape((50000, 100))\n"
   ]
  },
  {
   "cell_type": "code",
   "execution_count": 27,
   "id": "2cb12a7e-8db4-4dc0-959f-308684e08297",
   "metadata": {},
   "outputs": [],
   "source": [
    "def softmax(x):\n",
    "    e_x = np.exp(x - np.max(x))  # subtract max(x) for numerical stability\n",
    "    return e_x / e_x.sum(axis=0)  # along the appropriate axis"
   ]
  },
  {
   "cell_type": "markdown",
   "id": "8e39bf22-f406-40da-99b7-d801832d758d",
   "metadata": {},
   "source": [
    "### Ensure my RBM is trained with 100 visible units since flatting the 10x10 lattice gives configuration sizes of 100"
   ]
  },
  {
   "cell_type": "code",
   "execution_count": 34,
   "id": "6465ee90-46f2-4e3d-b771-3c23b93d1c2e",
   "metadata": {},
   "outputs": [],
   "source": [
    "# calculate free energies and softmax probs\n",
    "free_energies = trained_rbm.free_energy(configs_25_temps)\n",
    "softmax_probs = softmax(-free_energies)\n"
   ]
  },
  {
   "cell_type": "code",
   "execution_count": 35,
   "id": "a442fcd5-a0b4-4896-af21-327378030ae9",
   "metadata": {},
   "outputs": [],
   "source": [
    "# Reshape the softmax probabilities to match the original data structure\n",
    "softmax_probs = softmax_probs.reshape((25, 2000))\n",
    "\n",
    "# Calculate average softmax probabilities for each temperature\n",
    "avg_softmax_probs = softmax_probs.mean(axis=1)\n"
   ]
  },
  {
   "cell_type": "code",
   "execution_count": 36,
   "id": "3023b314-8d33-431b-b665-f28b1796394d",
   "metadata": {},
   "outputs": [],
   "source": [
    "temperatures = [0.000001, 0.25, 0.5, 0.75, 1.0, 1.25, 1.5, 1.75, 2.0, 2.25, 2.5, 2.75, \n",
    "                3.0, 3.25, 3.5, 3.75, 4.0, 4.25, 4.5, 4.75, 5.0, 5.25, 5.5, 5.75, 6.0]"
   ]
  },
  {
   "cell_type": "code",
   "execution_count": 39,
   "id": "1b5cb32f-3760-44fa-939e-a511265c4f5a",
   "metadata": {},
   "outputs": [
    {
     "data": {
      "image/png": "[encoded data removed]",
      "text/plain": [
       "<Figure size 720x432 with 1 Axes>"
      ]
     },
     "metadata": {
      "needs_background": "light"
     },
     "output_type": "display_data"
    }
   ],
   "source": [
    "import matplotlib.pyplot as plt\n",
    "\n",
    "# let's assume temp_list is your list of temperatures and softmax_prob_list is your list of softmax probabilities\n",
    "Tc = 2 / np.log(1 + np.sqrt(2))  # critical temperature\n",
    "\n",
    "plt.figure(figsize=(10,6))\n",
    "plt.plot(temperatures, avg_softmax_probs, 'o-')\n",
    "plt.axvline(x=Tc, color='r', linestyle='--')  # add vertical line at Tc\n",
    "plt.xlabel('Temperature')\n",
    "plt.ylabel('Average Softmax Probability')\n",
    "plt.title('Temperature vs Average Softmax Probability')\n",
    "plt.grid(True)\n",
    "plt.show()\n",
    "\n",
    "\n"
   ]
  },
  {
   "cell_type": "markdown",
   "id": "500345e2-0822-4a3c-b119-768672e49908",
   "metadata": {},
   "source": [
    "## note: this looks like $T_0=0$ flows in previous results"
   ]
  },
  {
   "cell_type": "code",
   "execution_count": null,
   "id": "edcdcd45-7643-47c1-9a7f-a3de286d8cbf",
   "metadata": {},
   "outputs": [],
   "source": []
  }
 ],
 "metadata": {
  "kernelspec": {
   "display_name": "Python 3 (ipykernel)",
   "language": "python",
   "name": "python3"
  },
  "language_info": {
   "codemirror_mode": {
    "name": "ipython",
    "version": 3
   },
   "file_extension": ".py",
   "mimetype": "text/x-python",
   "name": "python",
   "nbconvert_exporter": "python",
   "pygments_lexer": "ipython3",
   "version": "3.8.16"
  }
 },
 "nbformat": 4,
 "nbformat_minor": 5
}
