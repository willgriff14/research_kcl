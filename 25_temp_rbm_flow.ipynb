{
 "cells": [
  {
   "cell_type": "code",
   "execution_count": 57,
   "id": "8d450a2e-0f87-40f4-b96a-e9d2bd9a4936",
   "metadata": {},
   "outputs": [],
   "source": [
    "# define the RBM\n",
    "\n",
    "import numpy as np\n",
    "\n",
    "class RBM:\n",
    "    def __init__(self, num_visible, num_hidden):\n",
    "        # Initialize the number of visible and hidden units\n",
    "        self.num_visible = num_visible\n",
    "        self.num_hidden = num_hidden\n",
    "\n",
    "        # Initialize weights with normally distributed random values, and biases with zeros\n",
    "        self.weights = np.random.normal(scale=0.1, size=(num_visible, num_hidden))\n",
    "        self.visible_bias = np.zeros(num_visible)\n",
    "        self.hidden_bias = np.zeros(num_hidden)\n",
    "\n",
    "    def _sigmoid(self, x):\n",
    "        # Sigmoid activation function used for calculating probabilities\n",
    "        return 1 / (1 + np.exp(-x))\n",
    "\n",
    "    def train(self, data, num_epochs=100, initial_learning_rate=0.1, decay_rate=0.1, validation_split=0.2):\n",
    "        num_samples = int(data.shape[0] * (1 - validation_split))  # Number of training samples\n",
    "\n",
    "        # Split the data into training and validation sets\n",
    "        train_data = data[:num_samples]\n",
    "        validation_data = data[num_samples:]\n",
    "\n",
    "        # Lists to keep track of loss per epoch\n",
    "        train_losses = []\n",
    "        validation_losses = []\n",
    "\n",
    "        for epoch in range(num_epochs):\n",
    "            # Decay learning rate as training progresses\n",
    "            learning_rate = initial_learning_rate * np.exp(-decay_rate * epoch)\n",
    "\n",
    "            # Positive phase - calculate the probabilities of the hidden units given the visible units\n",
    "            hidden_prob = self._sigmoid(np.dot(train_data, self.weights) + self.hidden_bias)\n",
    "            hidden_state = self._sample(hidden_prob)  # Sample from the calculated probabilities\n",
    "\n",
    "            # Negative phase - reconstruct the visible units from the sampled hidden states\n",
    "            visible_recon_prob = self._sigmoid(np.dot(hidden_state, self.weights.T) + self.visible_bias)\n",
    "            visible_recon_state = self._sample(visible_recon_prob)  # Sample from the reconstructed probabilities\n",
    "            hidden_recon_prob = self._sigmoid(np.dot(visible_recon_state, self.weights) + self.hidden_bias)\n",
    "\n",
    "            # Calculate reconstruction error (training loss)\n",
    "            train_loss = np.mean((train_data - visible_recon_state) ** 2)\n",
    "            train_losses.append(train_loss)  # Append loss for the epoch to the list\n",
    "\n",
    "            # Update weights using Contrastive Divergence (CD)\n",
    "            positive_associations = np.dot(train_data.T, hidden_prob)  # Positive phase associations\n",
    "            negative_associations = np.dot(visible_recon_state.T, hidden_recon_prob)  # Negative phase associations\n",
    "            self.weights += learning_rate * (positive_associations - negative_associations) / num_samples\n",
    "            self.visible_bias += learning_rate * np.sum(train_data - visible_recon_state, axis=0) / num_samples\n",
    "            self.hidden_bias += learning_rate * np.sum(hidden_prob - hidden_recon_prob, axis=0) / num_samples\n",
    "\n",
    "            # Calculate reconstruction error (validation loss)\n",
    "            hidden_prob_val = self._sigmoid(np.dot(validation_data, self.weights) + self.hidden_bias)\n",
    "            hidden_state_val = self._sample(hidden_prob_val)\n",
    "            visible_recon_prob_val = self._sigmoid(np.dot(hidden_state_val, self.weights.T) + self.visible_bias)\n",
    "            visible_recon_state_val = self._sample(visible_recon_prob_val)\n",
    "            validation_loss = np.mean((validation_data - visible_recon_state_val) ** 2)\n",
    "            validation_losses.append(validation_loss)\n",
    "\n",
    "        return train_losses, validation_losses\n",
    "\n",
    "\n",
    "    def _sample(self, prob):\n",
    "        # Sample binary states based on probabilities (stochastic binary units)\n",
    "        return (np.random.random(size=prob.shape) < prob).astype(np.float32)\n",
    "    \n",
    "    def generate_sequence(self, initial_state, num_steps):\n",
    "        # Generate a sequence of visible states by iteratively passing through hidden and visible layers\n",
    "        state = initial_state\n",
    "        sequence = []\n",
    "\n",
    "        for step in range(num_steps):\n",
    "            # Compute hidden units given the visible state\n",
    "            hidden_prob = self._sigmoid(np.dot(state, self.weights) + self.hidden_bias)\n",
    "            hidden_state = self._sample(hidden_prob)\n",
    "\n",
    "            # Compute visible units given the hidden state\n",
    "            visible_prob = self._sigmoid(np.dot(hidden_state, self.weights.T) + self.visible_bias)\n",
    "            state = self._sample(visible_prob)\n",
    "\n",
    "            sequence.append(state)\n",
    "\n",
    "        return np.array(sequence)\n",
    "    \n",
    "    def free_energy(self, v):\n",
    "\n",
    "    # Compute the free energy of the visible units.\n",
    "    # 'v' is the visible units vector.\n",
    "    \n",
    "        hidden_term = np.sum(np.log(1 + np.exp(self.hidden_bias + np.dot(v, self.weights))), axis=1)\n",
    "        return -np.dot(v, self.visible_bias) - hidden_term\n",
    "    \n",
    "    def to_spin(self, prob):\n",
    "        # Convert probabilities to binary spin states (-1 or 1)\n",
    "        return np.where(np.random.random(size=prob.shape) < prob, 1, -1)\n",
    "\n",
    "    def _sample_hidden(self, visible):\n",
    "        # Compute the hidden states given the visible states\n",
    "        hidden_activations = np.dot(visible, self.weights) + self.hidden_bias\n",
    "        hidden_prob = self._sigmoid(hidden_activations)\n",
    "        return self.to_spin(hidden_prob)\n",
    "\n",
    "    def _sample_visible(self, hidden):\n",
    "        # Compute the visible states given the hidden states\n",
    "        visible_activations = np.dot(hidden, self.weights.T) + self.visible_bias\n",
    "        visible_prob = self._sigmoid(visible_activations)\n",
    "        return self.to_spin(visible_prob)\n"
   ]
  },
  {
   "cell_type": "markdown",
   "id": "09356de9-4564-4672-bf2c-a7e01005debf",
   "metadata": {},
   "source": [
    "# RETRAIN MY RBM ON LOW, HIGH, AND A RANGE OF TEMPS TO REDO THIS!!"
   ]
  },
  {
   "cell_type": "code",
   "execution_count": 71,
   "id": "b72c3ca9-e8c4-4368-8ee5-c223a3923ee7",
   "metadata": {},
   "outputs": [],
   "source": [
    "# import trained RBM (its trained state information)\n",
    "\n",
    "import pickle\n",
    "\n",
    "with open('trained_rbm.pkl', 'rb') as file:\n",
    "    rbm = pickle.load(file)"
   ]
  },
  {
   "cell_type": "code",
   "execution_count": 72,
   "id": "9e95bb37-ffe9-44b0-9cc5-a877bc7076c4",
   "metadata": {},
   "outputs": [],
   "source": [
    "# import 25 temp dataset\n",
    "\n",
    "configs_25_temps = np.load('rbm_data_25_temps.npy')"
   ]
  },
  {
   "cell_type": "code",
   "execution_count": 73,
   "id": "e1aeaac4-5bb9-45db-ac5b-9d3ae2649712",
   "metadata": {},
   "outputs": [
    {
     "name": "stdout",
     "output_type": "stream",
     "text": [
      "(25, 1000, 100)\n"
     ]
    }
   ],
   "source": [
    "# need shape (50000,100)\n",
    "\n",
    "print(configs_25_temps.shape) # This should print (50000, 100)\n"
   ]
  },
  {
   "cell_type": "code",
   "execution_count": 100,
   "id": "991c8522-296f-4669-8b93-81461dbb5f86",
   "metadata": {},
   "outputs": [
    {
     "data": {
      "text/plain": [
       "array([[1, 1, 1, ..., 1, 1, 1],\n",
       "       [1, 1, 1, ..., 1, 1, 1],\n",
       "       [1, 1, 1, ..., 1, 1, 1],\n",
       "       ...,\n",
       "       [0, 0, 1, ..., 1, 1, 1],\n",
       "       [1, 0, 0, ..., 0, 0, 1],\n",
       "       [0, 0, 1, ..., 0, 0, 0]])"
      ]
     },
     "execution_count": 100,
     "metadata": {},
     "output_type": "execute_result"
    }
   ],
   "source": [
    "# reshape as required\n",
    "\n",
    "configs_25_temps = configs_25_temps.reshape((25000, 100))\n",
    "configs_25_temps"
   ]
  },
  {
   "cell_type": "code",
   "execution_count": 101,
   "id": "c9af81b0-fbcf-4f57-895e-06b0974f2a64",
   "metadata": {},
   "outputs": [
    {
     "data": {
      "text/plain": [
       "(25000, 100)"
      ]
     },
     "execution_count": 101,
     "metadata": {},
     "output_type": "execute_result"
    }
   ],
   "source": [
    "np.shape(configs_25_temps)"
   ]
  },
  {
   "cell_type": "code",
   "execution_count": 75,
   "id": "2cb12a7e-8db4-4dc0-959f-308684e08297",
   "metadata": {},
   "outputs": [],
   "source": [
    "def softmax(x):\n",
    "    e_x = np.exp(x - np.max(x))  # subtract max(x) for numerical stability\n",
    "    return e_x / e_x.sum(axis=0)  # along the appropriate axis"
   ]
  },
  {
   "cell_type": "markdown",
   "id": "8e39bf22-f406-40da-99b7-d801832d758d",
   "metadata": {},
   "source": [
    "### Ensure my RBM is trained with 100 visible units since flatting the 10x10 lattice gives configuration sizes of 100"
   ]
  },
  {
   "cell_type": "code",
   "execution_count": 102,
   "id": "6465ee90-46f2-4e3d-b771-3c23b93d1c2e",
   "metadata": {},
   "outputs": [
    {
     "data": {
      "text/plain": [
       "array([-152.88212572, -152.88212572, -152.88212572, ..., -106.78045524,\n",
       "       -115.38995827,  -92.31708502])"
      ]
     },
     "execution_count": 102,
     "metadata": {},
     "output_type": "execute_result"
    }
   ],
   "source": [
    "# calculate free energies and softmax probs\n",
    "free_energies = trained_rbm.free_energy(configs_25_temps)\n",
    "free_energies"
   ]
  },
  {
   "cell_type": "code",
   "execution_count": 103,
   "id": "db5254c8-dcea-4fc2-a64f-4d8418ee30b1",
   "metadata": {},
   "outputs": [
    {
     "data": {
      "text/plain": [
       "array([1.41963945e-04, 1.41963945e-04, 1.41963945e-04, ...,\n",
       "       1.35044519e-24, 7.40519705e-21, 7.06504747e-31])"
      ]
     },
     "execution_count": 103,
     "metadata": {},
     "output_type": "execute_result"
    }
   ],
   "source": [
    "softmax_probs = softmax(-free_energies)\n",
    "softmax_probs"
   ]
  },
  {
   "cell_type": "code",
   "execution_count": 108,
   "id": "d694db9b-0287-4955-9f97-97859a591fd5",
   "metadata": {},
   "outputs": [
    {
     "data": {
      "text/plain": [
       "(25, 1000)"
      ]
     },
     "execution_count": 108,
     "metadata": {},
     "output_type": "execute_result"
    }
   ],
   "source": [
    "np.shape(softmax_probs)"
   ]
  },
  {
   "cell_type": "code",
   "execution_count": 109,
   "id": "a442fcd5-a0b4-4896-af21-327378030ae9",
   "metadata": {},
   "outputs": [
    {
     "data": {
      "text/plain": [
       "array([[1.41963945e-04, 1.41963945e-04, 1.41963945e-04, ...,\n",
       "        1.41963945e-04, 1.41963945e-04, 1.41963945e-04],\n",
       "       [1.41963945e-04, 1.41963945e-04, 1.41963945e-04, ...,\n",
       "        1.41963945e-04, 1.41963945e-04, 1.41963945e-04],\n",
       "       [1.41963945e-04, 1.41963945e-04, 1.41963945e-04, ...,\n",
       "        1.41963945e-04, 1.41963945e-04, 1.41963945e-04],\n",
       "       ...,\n",
       "       [8.09981236e-26, 1.86086121e-30, 8.36614347e-28, ...,\n",
       "        3.99518790e-29, 4.70794361e-28, 5.92781516e-23],\n",
       "       [1.20270344e-25, 2.30471582e-25, 1.30352733e-26, ...,\n",
       "        1.05526284e-21, 3.17486657e-28, 4.74537067e-25],\n",
       "       [6.87883900e-31, 5.33015299e-29, 3.16916623e-32, ...,\n",
       "        1.35044519e-24, 7.40519705e-21, 7.06504747e-31]])"
      ]
     },
     "execution_count": 109,
     "metadata": {},
     "output_type": "execute_result"
    }
   ],
   "source": [
    "# Reshape the softmax probabilities to match the original data structure\n",
    "softmax_probs = softmax_probs.reshape((25, 1000))\n",
    "softmax_probs"
   ]
  },
  {
   "cell_type": "code",
   "execution_count": 110,
   "id": "437bf184-590c-4661-b0f8-92ebc442ae70",
   "metadata": {},
   "outputs": [
    {
     "data": {
      "text/plain": [
       "(25, 1000)"
      ]
     },
     "execution_count": 110,
     "metadata": {},
     "output_type": "execute_result"
    }
   ],
   "source": [
    "np.shape(softmax_probs)"
   ]
  },
  {
   "cell_type": "code",
   "execution_count": 112,
   "id": "e6bc8edd-b5ab-4dcb-94c0-fb889ef3b157",
   "metadata": {},
   "outputs": [
    {
     "data": {
      "text/plain": [
       "array([1.41963945e-04, 1.41963945e-04, 1.41963945e-04, 1.41566283e-04,\n",
       "       1.39638026e-04, 1.24579898e-04, 9.67042574e-05, 5.68224465e-05,\n",
       "       1.33299120e-05, 1.20741003e-06, 2.58495752e-07, 1.02422555e-09,\n",
       "       4.12178836e-10, 1.84149481e-13, 8.40518571e-15, 1.05007039e-15,\n",
       "       1.96108729e-17, 3.08261352e-18, 3.63001638e-17, 2.37334626e-18,\n",
       "       1.00712469e-17, 2.43009509e-19, 1.22518507e-19, 2.89887279e-20,\n",
       "       4.23073686e-20])"
      ]
     },
     "execution_count": 112,
     "metadata": {},
     "output_type": "execute_result"
    }
   ],
   "source": [
    "# Calculate average softmax probabilities for each temperature\n",
    "avg_softmax_probs = softmax_probs.mean(axis=1)\n",
    "avg_softmax_probs"
   ]
  },
  {
   "cell_type": "code",
   "execution_count": 113,
   "id": "b6b3ba88-9082-4a6c-ad4e-1edfbac14720",
   "metadata": {},
   "outputs": [
    {
     "data": {
      "text/plain": [
       "(25,)"
      ]
     },
     "execution_count": 113,
     "metadata": {},
     "output_type": "execute_result"
    }
   ],
   "source": [
    "np.shape(avg_softmax_probs)"
   ]
  },
  {
   "cell_type": "code",
   "execution_count": 78,
   "id": "3023b314-8d33-431b-b665-f28b1796394d",
   "metadata": {},
   "outputs": [],
   "source": [
    "temperatures = [0.000001, 0.25, 0.5, 0.75, 1.0, 1.25, 1.5, 1.75, 2.0, 2.25, 2.5, 2.75, \n",
    "                3.0, 3.25, 3.5, 3.75, 4.0, 4.25, 4.5, 4.75, 5.0, 5.25, 5.5, 5.75, 6.0]"
   ]
  },
  {
   "cell_type": "code",
   "execution_count": 79,
   "id": "1b5cb32f-3760-44fa-939e-a511265c4f5a",
   "metadata": {},
   "outputs": [
    {
     "data": {
      "image/png": "[encoded data removed]",
      "text/plain": [
       "<Figure size 720x432 with 1 Axes>"
      ]
     },
     "metadata": {
      "needs_background": "light"
     },
     "output_type": "display_data"
    }
   ],
   "source": [
    "import matplotlib.pyplot as plt\n",
    "\n",
    "# let's assume temp_list is your list of temperatures and softmax_prob_list is your list of softmax probabilities\n",
    "Tc = 2 / np.log(1 + np.sqrt(2))  # critical temperature\n",
    "\n",
    "plt.figure(figsize=(10,6))\n",
    "plt.plot(temperatures, avg_softmax_probs, 'o-')\n",
    "plt.axvline(x=Tc, color='r', linestyle='--')  # add vertical line at Tc\n",
    "plt.xlabel('Temperature')\n",
    "plt.ylabel('Average Softmax Probability')\n",
    "plt.title('Temperature vs Average Softmax Probability')\n",
    "plt.grid(True)\n",
    "plt.show()\n",
    "\n",
    "\n"
   ]
  },
  {
   "cell_type": "code",
   "execution_count": null,
   "id": "901ed05f-f302-4f1f-93e2-5b8883640b0a",
   "metadata": {},
   "outputs": [],
   "source": [
    "# need to do the same for infinity ^^"
   ]
  },
  {
   "cell_type": "markdown",
   "id": "f625907c-f339-403b-baf1-63549214e262",
   "metadata": {},
   "source": [
    "## Run forward and backward passes to produce RBM flow"
   ]
  },
  {
   "cell_type": "markdown",
   "id": "9cf819f8-4f68-4c13-ab52-429e13621ee1",
   "metadata": {},
   "source": [
    "#### first use inital temp of $T=\\infty$"
   ]
  },
  {
   "cell_type": "code",
   "execution_count": 95,
   "id": "71efb64c-7e81-4363-864d-bd170f71f483",
   "metadata": {},
   "outputs": [
    {
     "name": "stdout",
     "output_type": "stream",
     "text": [
      "[1 0 0 1 1 0 1 0 1 1 1 0 0 1 1 0 0 0 1 1 0 0 0 0 1 1 1 1 0 0 1 1 0 1 0 0 1\n",
      " 1 1 0 1 0 1 1 1 0 1 1 0 0 0 1 1 0 0 0 0 0 1 1 1 0 1 0 1 1 0 0 1 1 1 1 0 1\n",
      " 0 1 0 0 1 1 0 1 1 1 0 1 1 0 0 0 0 0 1 1 0 0 1 0 1 0]\n"
     ]
    }
   ],
   "source": [
    "num_visible = 100\n",
    "infinity_initial = np.random.choice([0, 1], num_visible)\n",
    "print(infinity_initial)"
   ]
  },
  {
   "cell_type": "markdown",
   "id": "02675fb5-eb79-4b9e-8598-f3c2cea02368",
   "metadata": {},
   "source": [
    "#### next use inital temp of $T=0$"
   ]
  },
  {
   "cell_type": "code",
   "execution_count": 96,
   "id": "e262f058-86d0-4314-b823-fee3b7b4d5c4",
   "metadata": {},
   "outputs": [
    {
     "name": "stdout",
     "output_type": "stream",
     "text": [
      "[0 0 0 0 0 0 0 0 0 0 0 0 0 0 0 0 0 0 0 0 0 0 0 0 0 0 0 0 0 0 0 0 0 0 0 0 0\n",
      " 0 0 0 0 0 0 0 0 0 0 0 0 0 0 0 0 0 0 0 0 0 0 0 0 0 0 0 0 0 0 0 0 0 0 0 0 0\n",
      " 0 0 0 0 0 0 0 0 0 0 0 0 0 0 0 0 0 0 0 0 0 0 0 0 0 0]\n"
     ]
    }
   ],
   "source": [
    "zero_initial = np.random.choice([0, 0], num_visible)\n",
    "print(zero_initial)"
   ]
  },
  {
   "cell_type": "code",
   "execution_count": 119,
   "id": "194dfda5-2444-4051-83a7-925cd610d494",
   "metadata": {},
   "outputs": [],
   "source": [
    "# set the number of iterations i.e number of\n",
    "# forward and backward passes\n",
    "\n",
    "\n",
    "num_steps = 5 #THIS IS WRONG"
   ]
  },
  {
   "cell_type": "code",
   "execution_count": null,
   "id": "6febdd11-e777-45fb-9101-911879ea70cb",
   "metadata": {},
   "outputs": [],
   "source": []
  },
  {
   "cell_type": "code",
   "execution_count": 130,
   "id": "e28b0366-c9dd-4602-9d12-3237a483d8da",
   "metadata": {},
   "outputs": [],
   "source": [
    "# generate the sequences starting from inifnite temp\n",
    "# for 5 iterations, take the 5th configuration from the sequences generated\n",
    "# do this 25,000 times so we have 25,000 x 100 shape data... the same as in the '25 temp config'\n",
    "# points to chart?... then calculte the probs of each\n",
    "# temp being seen using the other neural network as a thermometer\n",
    "\n",
    "infinity_box = []\n",
    "for i in range(0,25000):\n",
    "    infinity_sequence = rbm.generate_sequence(infinity_initial, num_steps)\n",
    "    infinity_box.append(infinity_sequence[4])"
   ]
  },
  {
   "cell_type": "code",
   "execution_count": 131,
   "id": "e15646ac-4e2f-4c78-a2d6-9511d5d0c1df",
   "metadata": {},
   "outputs": [
    {
     "data": {
      "text/plain": [
       "(25000, 100)"
      ]
     },
     "execution_count": 131,
     "metadata": {},
     "output_type": "execute_result"
    }
   ],
   "source": [
    "np.shape(infinity_box)"
   ]
  },
  {
   "cell_type": "code",
   "execution_count": 98,
   "id": "b0505c0e-e764-44e0-9ee3-c9ea8b311c36",
   "metadata": {},
   "outputs": [
    {
     "name": "stdout",
     "output_type": "stream",
     "text": [
      "[[1. 0. 1. 0. 0. 0. 1. 1. 0. 0. 0. 0. 1. 1. 0. 1. 0. 1. 1. 0. 1. 0. 0. 1.\n",
      "  0. 1. 0. 0. 0. 1. 0. 0. 0. 1. 0. 0. 1. 0. 0. 1. 0. 1. 1. 1. 1. 1. 0. 0.\n",
      "  0. 0. 0. 1. 1. 1. 1. 1. 1. 0. 0. 1. 0. 0. 1. 1. 1. 1. 1. 1. 1. 0. 0. 1.\n",
      "  1. 0. 0. 1. 1. 1. 1. 0. 1. 0. 1. 1. 1. 0. 1. 0. 1. 0. 0. 1. 0. 0. 1. 0.\n",
      "  0. 0. 1. 1.]\n",
      " [1. 0. 1. 1. 1. 0. 1. 1. 1. 0. 1. 1. 0. 1. 1. 1. 1. 1. 1. 1. 0. 1. 1. 1.\n",
      "  0. 1. 0. 1. 0. 0. 1. 1. 0. 1. 1. 0. 0. 1. 1. 1. 1. 1. 0. 0. 1. 1. 1. 1.\n",
      "  1. 1. 1. 1. 0. 1. 0. 1. 1. 0. 0. 0. 1. 1. 1. 0. 1. 1. 0. 1. 0. 1. 1. 0.\n",
      "  0. 1. 1. 1. 1. 1. 1. 0. 1. 0. 1. 0. 0. 1. 1. 0. 1. 1. 0. 0. 1. 1. 0. 0.\n",
      "  1. 1. 1. 1.]\n",
      " [1. 1. 1. 1. 1. 1. 0. 1. 1. 1. 1. 1. 1. 1. 1. 1. 1. 1. 1. 1. 0. 1. 1. 1.\n",
      "  1. 1. 1. 1. 0. 0. 1. 1. 1. 1. 0. 1. 0. 1. 1. 1. 1. 0. 0. 1. 1. 1. 1. 1.\n",
      "  1. 1. 1. 0. 1. 1. 1. 1. 1. 0. 0. 1. 1. 1. 1. 1. 1. 1. 1. 1. 1. 0. 1. 1.\n",
      "  1. 1. 0. 1. 1. 1. 1. 0. 0. 1. 1. 0. 1. 1. 1. 1. 1. 1. 1. 1. 1. 1. 1. 0.\n",
      "  0. 1. 1. 1.]\n",
      " [1. 0. 1. 1. 1. 1. 1. 0. 1. 1. 0. 1. 1. 1. 1. 1. 1. 0. 1. 1. 1. 0. 1. 1.\n",
      "  0. 1. 1. 1. 1. 1. 1. 0. 0. 1. 1. 1. 1. 1. 0. 1. 1. 1. 1. 1. 1. 1. 1. 0.\n",
      "  0. 0. 1. 1. 0. 1. 1. 1. 1. 1. 1. 1. 1. 1. 0. 1. 1. 1. 1. 1. 0. 0. 0. 1.\n",
      "  1. 0. 1. 1. 1. 1. 1. 0. 1. 0. 1. 1. 1. 1. 1. 1. 1. 1. 0. 1. 1. 0. 1. 1.\n",
      "  1. 0. 1. 1.]\n",
      " [0. 1. 1. 0. 0. 1. 1. 1. 1. 1. 1. 0. 0. 1. 0. 1. 1. 1. 1. 0. 1. 1. 1. 1.\n",
      "  0. 1. 1. 1. 1. 1. 1. 1. 0. 0. 0. 0. 1. 1. 0. 1. 1. 0. 1. 1. 1. 1. 1. 1.\n",
      "  0. 1. 1. 0. 1. 1. 0. 0. 1. 1. 1. 1. 1. 1. 0. 1. 1. 1. 1. 0. 1. 1. 0. 1.\n",
      "  1. 1. 1. 1. 0. 1. 1. 1. 1. 1. 1. 1. 1. 1. 1. 1. 0. 1. 1. 1. 1. 1. 0. 1.\n",
      "  1. 0. 1. 1.]]\n"
     ]
    }
   ],
   "source": [
    "# generate the sequences starting from zero temp\n",
    "zero_sequence = rbm.generate_sequence(zero_initial, num_steps)\n",
    "\n",
    "print(zero_sequence)"
   ]
  },
  {
   "cell_type": "code",
   "execution_count": 138,
   "id": "a5550235-c8b1-4265-a2d1-9c15992ca92c",
   "metadata": {},
   "outputs": [],
   "source": [
    "def to_spin(binary_array):\n",
    "    return 2*binary_array - 1"
   ]
  },
  {
   "cell_type": "code",
   "execution_count": null,
   "id": "16752472-9652-491e-addf-0d8e1c9477fe",
   "metadata": {},
   "outputs": [],
   "source": [
    "sequence = to_spin(sequence)"
   ]
  },
  {
   "cell_type": "code",
   "execution_count": null,
   "id": "2b65414f-353e-4a0f-a838-c1ac053629b7",
   "metadata": {},
   "outputs": [],
   "source": [
    "# Now, here the previous researchers used another NN to analyse the temperatures"
   ]
  },
  {
   "cell_type": "code",
   "execution_count": 132,
   "id": "0f6b9483-1743-4216-8184-6d94963185a1",
   "metadata": {},
   "outputs": [],
   "source": [
    "# calculate free energies and softmax probs\n",
    "free_energies_infinity = trained_rbm.free_energy(infinity_box)\n",
    "softmax_probs_infinity = softmax(-free_energies_infinity)"
   ]
  },
  {
   "cell_type": "code",
   "execution_count": 133,
   "id": "6799a40f-8e66-41a2-bf50-2faf916bbf5a",
   "metadata": {},
   "outputs": [
    {
     "name": "stdout",
     "output_type": "stream",
     "text": [
      "[5.80232132e-08 3.54586368e-11 1.26266812e-09 ... 3.95062904e-10\n",
      " 9.34444532e-10 1.03000687e-03]\n"
     ]
    }
   ],
   "source": [
    "print(softmax_probs_infinity)"
   ]
  },
  {
   "cell_type": "code",
   "execution_count": 136,
   "id": "3436a760-3bb4-43df-b07c-e759aa922821",
   "metadata": {},
   "outputs": [
    {
     "data": {
      "text/plain": [
       "array([[5.80232132e-08, 3.54586368e-11, 1.26266812e-09, ...,\n",
       "        8.30960719e-09, 2.53223184e-12, 1.30149115e-06],\n",
       "       [2.09000245e-06, 4.10523039e-08, 9.46426860e-09, ...,\n",
       "        9.53076141e-08, 9.14830525e-08, 2.51687174e-07],\n",
       "       [8.59012253e-08, 6.70580571e-07, 4.26053800e-11, ...,\n",
       "        3.84335626e-08, 1.22723677e-10, 1.75834908e-09],\n",
       "       ...,\n",
       "       [3.58925952e-07, 3.70587354e-09, 7.56454718e-10, ...,\n",
       "        1.51589782e-10, 3.49934339e-10, 3.13377144e-12],\n",
       "       [5.30291325e-12, 8.65136064e-06, 1.74331795e-10, ...,\n",
       "        4.96896836e-05, 1.01008438e-08, 1.03964419e-10],\n",
       "       [8.83601876e-11, 6.91135453e-11, 2.12069281e-07, ...,\n",
       "        3.95062904e-10, 9.34444532e-10, 1.03000687e-03]])"
      ]
     },
     "execution_count": 136,
     "metadata": {},
     "output_type": "execute_result"
    }
   ],
   "source": [
    "# Reshape the softmax probabilities to match the original data structure\n",
    "softmax_probs_infinity = softmax_probs_infinity.reshape((25, 1000))\n",
    "softmax_probs_infinity"
   ]
  },
  {
   "cell_type": "code",
   "execution_count": 137,
   "id": "817594e4-a821-4bd1-bac8-547ae8d17fef",
   "metadata": {},
   "outputs": [
    {
     "data": {
      "text/plain": [
       "array([2.38025839e-05, 3.94423491e-05, 3.10066959e-05, 1.68434458e-05,\n",
       "       2.65070595e-05, 2.94605936e-05, 3.65722003e-05, 9.82346940e-06,\n",
       "       2.02822885e-04, 5.20648739e-05, 1.63995636e-05, 7.49588415e-05,\n",
       "       1.87792131e-05, 2.68036234e-05, 6.18004452e-05, 2.00168181e-05,\n",
       "       3.02341493e-05, 4.19489613e-05, 3.21657615e-05, 1.37592212e-05,\n",
       "       2.66379360e-05, 1.43663716e-05, 8.85041188e-05, 1.74708889e-05,\n",
       "       4.78079297e-05])"
      ]
     },
     "execution_count": 137,
     "metadata": {},
     "output_type": "execute_result"
    }
   ],
   "source": [
    "# Calculate average softmax probabilities for each temperature\n",
    "avg_softmax_probs_infinity = softmax_probs_infinity.mean(axis=1)\n",
    "avg_softmax_probs_infinity"
   ]
  },
  {
   "cell_type": "markdown",
   "id": "746e6233-7cce-40cb-b269-a6541f60997b",
   "metadata": {},
   "source": [
    "# NOW BUILD ANOTHER NEURAL NETWORK AS A THERMOMETER AND FIND THE PROBABILITY OF THE TEMPS 1-6 FROM THIS !!!!!!! easyyyyyyyy THEN DONE FOR 5 ITERATIONS. THE OUTPUT OF THE FEED FORWARD NEURAL NETWORK (NN THERMOMETER) IS A SOFTMAX PROBABILITY. THAT IS WHAT IS UP THE SIDE OF THE SCALE!"
   ]
  },
  {
   "cell_type": "code",
   "execution_count": null,
   "id": "d448c699-af21-44d7-b677-1629237285b2",
   "metadata": {},
   "outputs": [],
   "source": []
  },
  {
   "cell_type": "markdown",
   "id": "500345e2-0822-4a3c-b119-768672e49908",
   "metadata": {},
   "source": [
    "## note: this looks like $T_0=0$ flows in previous results"
   ]
  },
  {
   "cell_type": "code",
   "execution_count": 56,
   "id": "a5e0e5c0-dcc1-475e-8495-705e932c2e75",
   "metadata": {},
   "outputs": [],
   "source": [
    "num_visible = 100\n",
    "num_hidden = 100\n",
    "initial_state = np.random.choice([0, 1], num_visible)  # T = infinity (because completely random spins)\n",
    "rbm = RBM(num_visible=num_visible, num_hidden=num_hidden)\n",
    "# Generate sequence\n",
    "num_steps = 5\n",
    "sequence = rbm.generate_sequence(initial_state, num_steps)"
   ]
  },
  {
   "cell_type": "code",
   "execution_count": 57,
   "id": "60478605-4f21-4636-a241-9c9913d6629b",
   "metadata": {},
   "outputs": [],
   "source": [
    "def calculate_magnetisation(configuration):\n",
    "    return np.mean(configuration)"
   ]
  },
  {
   "cell_type": "code",
   "execution_count": 58,
   "id": "ef814962-415d-4fa3-ab9a-5669e0f9bc7c",
   "metadata": {},
   "outputs": [],
   "source": [
    "def theoretical_magnetisation(T):\n",
    "    if T < 2 / np.log(1 + np.sqrt(2)):\n",
    "        return (1 - np.sinh(2 / T) ** (-4)) ** (1 / 8)\n",
    "    else:\n",
    "        return 0"
   ]
  },
  {
   "cell_type": "code",
   "execution_count": 59,
   "id": "c61c1577-7b44-40d0-b127-32a6952d037e",
   "metadata": {},
   "outputs": [
    {
     "name": "stderr",
     "output_type": "stream",
     "text": [
      "/var/folders/w5/2_pjjnd9621bd9yfl2mp6fd80000gn/T/ipykernel_32820/3175088664.py:3: RuntimeWarning: overflow encountered in sinh\n",
      "  return (1 - np.sinh(2 / T) ** (-4)) ** (1 / 8)\n"
     ]
    }
   ],
   "source": [
    "# Initialize a list to store the effective temperatures for each configuration\n",
    "effective_temperatures = []\n",
    "\n",
    "# For each configuration in the sequence\n",
    "for config in sequence:\n",
    "    # Calculate the magnetisation of the configuration\n",
    "    config_magnetisation = calculate_magnetisation(config)\n",
    "\n",
    "    # Calculate the theoretical magnetisation for each temperature\n",
    "    theoretical_magnetisations = np.array([theoretical_magnetisation(T) for T in temperatures])\n",
    "\n",
    "    # Find the temperature that gives the closest match to the configuration's magnetisation\n",
    "    effective_temperature = temperatures[np.argmin(np.abs(theoretical_magnetisations - config_magnetisation))]\n",
    "\n",
    "    # Append to the list of effective temperatures\n",
    "    effective_temperatures.append(effective_temperature)"
   ]
  },
  {
   "cell_type": "code",
   "execution_count": 60,
   "id": "5a5fca67-e58b-405b-8553-6de2984bb2f6",
   "metadata": {},
   "outputs": [
    {
     "data": {
      "image/png": "[encoded data removed]",
      "text/plain": [
       "<Figure size 432x288 with 1 Axes>"
      ]
     },
     "metadata": {
      "needs_background": "light"
     },
     "output_type": "display_data"
    }
   ],
   "source": [
    "\n",
    "# Convert the list of effective temperatures into a numpy array\n",
    "effective_temperatures = np.array(effective_temperatures)\n",
    "\n",
    "# Plot the histogram of effective temperatures\n",
    "plt.hist(effective_temperatures, bins=30, weights=np.ones(len(effective_temperatures)) / len(effective_temperatures))\n",
    "plt.xlabel('Temperature')\n",
    "plt.ylabel('Probability')\n",
    "plt.title('Distribution of Effective Temperatures')\n",
    "plt.xlim([1, 6])  # Set the range of the x-axis to be between 1 and 6\n",
    "plt.show()"
   ]
  },
  {
   "cell_type": "markdown",
   "id": "b1686ef5-3cac-4fdb-9ad5-bef0fa4e48e2",
   "metadata": {},
   "source": [
    "# RBM Flow function"
   ]
  },
  {
   "cell_type": "code",
   "execution_count": 63,
   "id": "59c9ebc8-ff95-4b5b-9634-6e033f8ddff9",
   "metadata": {},
   "outputs": [],
   "source": [
    "# Generate sequence\n",
    "def RBM_Flow(num_visible, num_hidden, initial_state, num_steps, repeat):\n",
    "    \n",
    "    \n",
    "    sequence = rbm.generate_sequence(initial_state, num_steps)\n",
    "    temperatures = [0.000001, 0.25, 0.5, 0.75, 1.0, 1.25, 1.5, 1.75, 2.0, 2.25, 2.5, 2.75, \n",
    "                3.0, 3.25, 3.5, 3.75, 4.0, 4.25, 4.5, 4.75, 5.0, 5.25, 5.5, 5.75, 6.0]\n",
    "    \n",
    "    def calculate_magnetisation(configuration):\n",
    "        return np.mean(configuration)\n",
    "    \n",
    "    def theoretical_magnetisation(T):\n",
    "        if T < 2 / np.log(1 + np.sqrt(2)):\n",
    "            return (1 - np.sinh(2 / T) ** (-4)) ** (1 / 8)\n",
    "        else:\n",
    "            return 0\n",
    "        \n",
    "    average_effective_temperature = []\n",
    "    for n in range(0,len(repeat)):\n",
    "    # Initialize a list to store the effective temperatures for each configuration\n",
    "        effective_temperatures = []\n",
    "\n",
    "    # For each configuration in the sequence\n",
    "        for config in sequence:\n",
    "        # Calculate the magnetisation of the configuration\n",
    "            config_magnetisation = calculate_magnetisation(config)\n",
    "\n",
    "        # Calculate the theoretical magnetisation for each temperature\n",
    "            theoretical_magnetisations = np.array([theoretical_magnetisation(T) for T in temperatures])\n",
    "\n",
    "        # Find the temperature that gives the closest match to the configuration's magnetisation\n",
    "            effective_temperature = temperatures[np.argmin(np.abs(theoretical_magnetisations - config_magnetisation))]\n",
    "\n",
    "        # Append to the list of effective temperatures\n",
    "            effective_temperatures.append(effective_temperature)\n",
    "            \n",
    "            "
   ]
  },
  {
   "cell_type": "code",
   "execution_count": null,
   "id": "20a37530-7736-4145-9e03-61bcab1bc2cb",
   "metadata": {},
   "outputs": [],
   "source": []
  },
  {
   "cell_type": "code",
   "execution_count": null,
   "id": "745614f9-2705-44ce-bd02-e45d485e002a",
   "metadata": {},
   "outputs": [],
   "source": []
  },
  {
   "cell_type": "code",
   "execution_count": null,
   "id": "d6a809a7-9614-4463-b631-d511330965c4",
   "metadata": {},
   "outputs": [],
   "source": []
  },
  {
   "cell_type": "code",
   "execution_count": null,
   "id": "5bd4f7a4-1da3-474f-a072-2474dc44e3d1",
   "metadata": {},
   "outputs": [],
   "source": []
  }
 ],
 "metadata": {
  "kernelspec": {
   "display_name": "Python 3 (ipykernel)",
   "language": "python",
   "name": "python3"
  },
  "language_info": {
   "codemirror_mode": {
    "name": "ipython",
    "version": 3
   },
   "file_extension": ".py",
   "mimetype": "text/x-python",
   "name": "python",
   "nbconvert_exporter": "python",
   "pygments_lexer": "ipython3",
   "version": "3.8.18"
  }
 },
 "nbformat": 4,
 "nbformat_minor": 5
}
