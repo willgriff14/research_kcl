{
 "cells": [
  {
   "cell_type": "code",
   "execution_count": 1,
   "id": "e3771529",
   "metadata": {},
   "outputs": [],
   "source": [
    "import numpy as np\n",
    "\n",
    "class RBM:\n",
    "    def __init__(self, num_visible, num_hidden):\n",
    "        # Initialize the number of visible and hidden units\n",
    "        self.num_visible = num_visible\n",
    "        self.num_hidden = num_hidden\n",
    "\n",
    "        # Initialize weights with normally distributed random values, and biases with zeros\n",
    "        self.weights = np.random.normal(scale=0.1, size=(num_visible, num_hidden))\n",
    "        self.visible_bias = np.zeros(num_visible)\n",
    "        self.hidden_bias = np.zeros(num_hidden)\n",
    "\n",
    "    def _sigmoid(self, x):\n",
    "        # Sigmoid activation function used for calculating probabilities\n",
    "        return 1 / (1 + np.exp(-x))\n",
    "\n",
    "    def train(self, data, num_epochs=100, initial_learning_rate=0.1, decay_rate=0.1):\n",
    "        num_samples = data.shape[0]  # Number of training samples\n",
    "        losses = []  # List to keep track of loss per epoch\n",
    "\n",
    "        for epoch in range(num_epochs):\n",
    "            # Decay learning rate as training progresses\n",
    "            learning_rate = initial_learning_rate * np.exp(-decay_rate * epoch)\n",
    "\n",
    "            # Positive phase - calculate the probabilities of the hidden units given the visible units\n",
    "            hidden_prob = self._sigmoid(np.dot(data, self.weights) + self.hidden_bias)\n",
    "            hidden_state = self._sample(hidden_prob)  # Sample from the calculated probabilities\n",
    "\n",
    "            # Negative phase - reconstruct the visible units from the sampled hidden states\n",
    "            visible_recon_prob = self._sigmoid(np.dot(hidden_state, self.weights.T) + self.visible_bias)\n",
    "            visible_recon_state = self._sample(visible_recon_prob)  # Sample from the reconstructed probabilities\n",
    "            hidden_recon_prob = self._sigmoid(np.dot(visible_recon_state, self.weights) + self.hidden_bias)\n",
    "\n",
    "            # Calculate reconstruction error\n",
    "            loss = np.mean((data - visible_recon_state) ** 2)\n",
    "            losses.append(loss)  # Append loss for the epoch to the list\n",
    "\n",
    "            # Update weights using Contrastive Divergence (CD)\n",
    "            positive_associations = np.dot(data.T, hidden_prob)  # Positive phase associations\n",
    "            negative_associations = np.dot(visible_recon_state.T, hidden_recon_prob)  # Negative phase associations\n",
    "            self.weights += learning_rate * (positive_associations - negative_associations) / num_samples\n",
    "            self.visible_bias += learning_rate * (np.sum(data - visible_recon_state, axis=0)) / num_samples\n",
    "            self.hidden_bias += learning_rate * (np.sum(hidden_prob - hidden_recon_prob, axis=0)) / num_samples\n",
    "\n",
    "        return losses\n",
    "\n",
    "    def _sample(self, prob):\n",
    "        # Sample binary states based on probabilities (stochastic binary units)\n",
    "        return (np.random.random(size=prob.shape) < prob).astype(np.float32)\n",
    "    \n",
    "    def generate_sequence(self, initial_state, num_steps):\n",
    "        # Generate a sequence of visible states by iteratively passing through hidden and visible layers\n",
    "        state = initial_state\n",
    "        sequence = []\n",
    "\n",
    "        for step in range(num_steps):\n",
    "            # Compute hidden units given the visible state\n",
    "            hidden_prob = self._sigmoid(np.dot(state, self.weights) + self.hidden_bias)\n",
    "            hidden_state = self._sample(hidden_prob)\n",
    "\n",
    "            # Compute visible units given the hidden state\n",
    "            visible_prob = self._sigmoid(np.dot(hidden_state, self.weights.T) + self.visible_bias)\n",
    "            state = self._sample(visible_prob)\n",
    "\n",
    "            sequence.append(state)\n",
    "\n",
    "        return np.array(sequence)\n",
    "    \n",
    "    def to_spin(self, prob):\n",
    "        # Convert probabilities to binary spin states (-1 or 1)\n",
    "        return np.where(np.random.random(size=prob.shape) < prob, 1, -1)\n",
    "\n",
    "    def _sample_hidden(self, visible):\n",
    "        # Compute the hidden states given the visible states\n",
    "        hidden_activations = np.dot(visible, self.weights) + self.hidden_bias\n",
    "        hidden_prob = self._sigmoid(hidden_activations)\n",
    "        return self.to_spin(hidden_prob)\n",
    "\n",
    "    def _sample_visible(self, hidden):\n",
    "        # Compute the visible states given the hidden states\n",
    "        visible_activations = np.dot(hidden, self.weights.T) + self.visible_bias\n",
    "        visible_prob = self._sigmoid(visible_activations)\n",
    "        return self.to_spin(visible_prob)\n"
   ]
  },
  {
   "cell_type": "markdown",
   "id": "7cc35f8f",
   "metadata": {},
   "source": [
    "# Training"
   ]
  },
  {
   "cell_type": "markdown",
   "id": "d2128f67",
   "metadata": {},
   "source": [
    "Fix a temperature, generate configurations at this temperature. Don't need to feed in temperature as label for rbm training since RBM is an unsupervised learning method, but for a conditional RBM could feed in the temperature label"
   ]
  },
  {
   "cell_type": "markdown",
   "id": "95a03c75",
   "metadata": {},
   "source": [
    "# Training 'Type V' RBM"
   ]
  },
  {
   "cell_type": "code",
   "execution_count": 26,
   "id": "f6f5c113",
   "metadata": {
    "scrolled": true
   },
   "outputs": [
    {
     "data": {
      "image/png": "[encoded data removed]",
      "text/plain": [
       "<Figure size 432x288 with 1 Axes>"
      ]
     },
     "metadata": {
      "needs_background": "light"
     },
     "output_type": "display_data"
    }
   ],
   "source": [
    "# Load the RBM data from a numpy binary file\n",
    "# The data should be a 2D numpy array where each row is a flattened 2D spin lattice\n",
    "rbm_data = np.load('rbm_data2.npy')\n",
    "\n",
    "# Concatenate all configurations into one dataset\n",
    "# This step is necessary if rbm_data is a list of arrays rather than a single 2D array\n",
    "# If rbm_data is already a 2D array, this line can be omitted\n",
    "all_data = np.concatenate(rbm_data)\n",
    "\n",
    "# Number of spins should match the flattened 2D lattice size\n",
    "# This is the number of visible units for the RBM\n",
    "num_visible = all_data.shape[1]\n",
    "num_hidden = 100  # The number of hidden units, a hyperparameter that you can tune\n",
    "\n",
    "# Instantiate the RBM with the specified number of visible and hidden units\n",
    "rbm = RBM(num_visible=num_visible, num_hidden=num_hidden)\n",
    "\n",
    "# Train the RBM on the dataset for 35 epochs with an initial learning rate of 0.1\n",
    "# The function returns the reconstruction errors for each epoch\n",
    "losses = rbm.train(all_data, num_epochs=35, initial_learning_rate=0.1)\n",
    "\n",
    "# Import matplotlib for plotting\n",
    "import matplotlib.pyplot as plt\n",
    "\n",
    "# Plot the reconstruction errors as a function of the epoch number\n",
    "plt.plot(losses)\n",
    "plt.title('RBM Training Loss')  # Add a title to the plot\n",
    "plt.xlabel('Epoch')  # Label for the x-axis\n",
    "plt.ylabel('Reconstruction Error')  # Label for the y-axis\n",
    "plt.show()  # Display the plot\n"
   ]
  },
  {
   "cell_type": "code",
   "execution_count": 27,
   "id": "26a02106",
   "metadata": {},
   "outputs": [],
   "source": [
    "# save the RBM to a file\n",
    "\n",
    "import pickle\n",
    "\n",
    "with open('trained_rbm.pkl', 'wb') as f:\n",
    "    pickle.dump(rbm, f)"
   ]
  },
  {
   "cell_type": "markdown",
   "id": "ef77202d",
   "metadata": {},
   "source": [
    "# Generating RBM flow from this trained model"
   ]
  },
  {
   "cell_type": "code",
   "execution_count": 28,
   "id": "fe8b2b33",
   "metadata": {},
   "outputs": [],
   "source": [
    "# Assume that initial_state is a random or fixed 1D array of spins\n",
    "\n",
    "initial_state = np.random.choice([0, 1], num_visible)  # change this to the separate inital configs I made\n",
    "\n",
    "# Generate sequence\n",
    "num_steps = 1000\n",
    "sequence = rbm.generate_sequence(initial_state, num_steps)"
   ]
  },
  {
   "cell_type": "code",
   "execution_count": 29,
   "id": "0cb9b881",
   "metadata": {},
   "outputs": [
    {
     "data": {
      "text/plain": [
       "array([[1., 1., 0., ..., 1., 1., 1.],\n",
       "       [1., 1., 0., ..., 0., 1., 1.],\n",
       "       [0., 1., 1., ..., 1., 1., 0.],\n",
       "       ...,\n",
       "       [1., 1., 1., ..., 1., 1., 1.],\n",
       "       [0., 1., 1., ..., 1., 0., 1.],\n",
       "       [1., 1., 1., ..., 0., 1., 1.]], dtype=float32)"
      ]
     },
     "execution_count": 29,
     "metadata": {},
     "output_type": "execute_result"
    }
   ],
   "source": [
    "sequence # this is the output of 1000 step RBM flow"
   ]
  },
  {
   "cell_type": "markdown",
   "id": "e807d617",
   "metadata": {},
   "source": [
    "# What about using the seperate initial configurations I created???"
   ]
  },
  {
   "cell_type": "code",
   "execution_count": 6,
   "id": "0661ceaa",
   "metadata": {},
   "outputs": [],
   "source": [
    "with open('initial_configs.pickle', 'rb') as f:\n",
    "    initial_configs = pickle.load(f)"
   ]
  },
  {
   "cell_type": "code",
   "execution_count": 22,
   "id": "895f729e",
   "metadata": {},
   "outputs": [],
   "source": [
    "def calculate_magnetisation(configuration):\n",
    "    return np.mean(configuration)"
   ]
  },
  {
   "cell_type": "code",
   "execution_count": 23,
   "id": "786cc2e8",
   "metadata": {},
   "outputs": [],
   "source": [
    "def theoretical_magnetisation(T):\n",
    "    if T < 2 / np.log(1 + np.sqrt(2)):\n",
    "        return (1 - np.sinh(2 / T) ** (-4)) ** (1 / 8)\n",
    "    else:\n",
    "        return 0"
   ]
  },
  {
   "cell_type": "code",
   "execution_count": 24,
   "id": "e045865b",
   "metadata": {},
   "outputs": [],
   "source": [
    "# Define a range of temperatures\n",
    "temperatures = np.linspace(1.0, 3.0, num=1000)\n",
    "\n",
    "# Initialize a list to store the effective temperatures for each configuration\n",
    "effective_temperatures = []\n",
    "\n",
    "# For each configuration in the sequence\n",
    "for config in sequence:\n",
    "    # Calculate the magnetisation of the configuration\n",
    "    config_magnetisation = calculate_magnetisation(config)\n",
    "\n",
    "    # Calculate the theoretical magnetisation for each temperature\n",
    "    theoretical_magnetisations = np.array([theoretical_magnetisation(T) for T in temperatures])\n",
    "\n",
    "    # Find the temperature that gives the closest match to the configuration's magnetisation\n",
    "    effective_temperature = temperatures[np.argmin(np.abs(theoretical_magnetisations - config_magnetisation))]\n",
    "\n",
    "    # Append to the list of effective temperatures\n",
    "    effective_temperatures.append(effective_temperature)"
   ]
  },
  {
   "cell_type": "code",
   "execution_count": 25,
   "id": "3b22bab9",
   "metadata": {},
   "outputs": [
    {
     "data": {
      "image/png": "[encoded data removed]",
      "text/plain": [
       "<Figure size 432x288 with 1 Axes>"
      ]
     },
     "metadata": {
      "needs_background": "light"
     },
     "output_type": "display_data"
    }
   ],
   "source": [
    "import matplotlib.pyplot as plt\n",
    "\n",
    "plt.plot(effective_temperatures)\n",
    "plt.axhline(y=2 / np.log(1 + np.sqrt(2)), color='r', linestyle='--')  # Critical temperature\n",
    "plt.show()"
   ]
  },
  {
   "cell_type": "markdown",
   "id": "39ed9552",
   "metadata": {},
   "source": [
    "# Testing"
   ]
  },
  {
   "cell_type": "code",
   "execution_count": 14,
   "id": "efac7be6",
   "metadata": {},
   "outputs": [],
   "source": [
    "# Generate new samples"
   ]
  },
  {
   "cell_type": "code",
   "execution_count": 15,
   "id": "2a0aa92a",
   "metadata": {},
   "outputs": [],
   "source": [
    "def sigmoid(x):\n",
    "    return 1 / (1 + np.exp(-x))"
   ]
  },
  {
   "cell_type": "code",
   "execution_count": 16,
   "id": "537ed755",
   "metadata": {},
   "outputs": [],
   "source": [
    "h = np.random.randint(0, 2, size=(num_hidden,))\n",
    "for _ in range(1000):  # perform Gibbs sampling for some iterations\n",
    "    probs = sigmoid(np.dot(h, rbm.weights) + rbm.visible_bias)\n",
    "    v = np.random.binomial(1, probs)\n",
    "    probs = sigmoid(np.dot(v, rbm.weights.T) + rbm.hidden_bias)\n",
    "    h = np.random.binomial(1, probs)\n"
   ]
  },
  {
   "cell_type": "code",
   "execution_count": 17,
   "id": "3c315521",
   "metadata": {},
   "outputs": [],
   "source": [
    "# calculate free energy of visible state"
   ]
  },
  {
   "cell_type": "code",
   "execution_count": 18,
   "id": "ac879539",
   "metadata": {},
   "outputs": [],
   "source": [
    "def free_energy(v, rbm):\n",
    "    v = v[np.newaxis]  # make sure v is a 2D array\n",
    "    h = np.dot(v, rbm.weights.T) + rbm.hidden_bias\n",
    "    return - np.dot(v, rbm.visible_bias.T) - np.sum(np.logaddexp(0, h))\n",
    "\n",
    "# usage:\n",
    "v = rbm_data[0]\n",
    "F = free_energy(v, rbm)\n"
   ]
  },
  {
   "cell_type": "code",
   "execution_count": 19,
   "id": "75713b27",
   "metadata": {},
   "outputs": [
    {
     "name": "stdout",
     "output_type": "stream",
     "text": [
      "Free energy of the given visible state is [[-806172.84701944 -806172.84701944 -806172.84701944 ... -806172.84701944\n",
      "  -806172.84701944 -806172.84701944]]\n"
     ]
    }
   ],
   "source": [
    "print('Free energy of the given visible state is', F)"
   ]
  },
  {
   "cell_type": "code",
   "execution_count": 20,
   "id": "a584ce36",
   "metadata": {},
   "outputs": [
    {
     "name": "stdout",
     "output_type": "stream",
     "text": [
      "Free energy of visible state 0 is [[-806172.84701944 -806172.84701944 -806172.84701944 ... -806172.84701944\n",
      "  -806172.84701944 -806172.84701944]]\n",
      "Free energy of visible state 1 is [[-805851.72634896 -805851.71359516 -805851.72634896 ... -805851.72634896\n",
      "  -805851.72593123 -805851.72634896]]\n",
      "Free energy of visible state 2 is [[-745205.14615405 -745205.19342416 -745205.15397287 ... -745205.00509507\n",
      "  -745205.01144165 -745204.96920436]]\n",
      "Free energy of visible state 3 is [[-762487.14467481 -762487.21127481 -762487.18719045 ... -762487.16955765\n",
      "  -762487.26155095 -762487.14553811]]\n",
      "Free energy of visible state 4 is [[-768618.27667186 -768618.26107197 -768618.19967622 ... -768618.13040562\n",
      "  -768618.28163163 -768618.22750154]]\n"
     ]
    }
   ],
   "source": [
    "for i in range(len(rbm_data)):\n",
    "    v = rbm_data[i]\n",
    "    F = free_energy(v, rbm)\n",
    "    print(f'Free energy of visible state {i} is {F}')\n"
   ]
  }
 ],
 "metadata": {
  "kernelspec": {
   "display_name": "Python 3 (ipykernel)",
   "language": "python",
   "name": "python3"
  },
  "language_info": {
   "codemirror_mode": {
    "name": "ipython",
    "version": 3
   },
   "file_extension": ".py",
   "mimetype": "text/x-python",
   "name": "python",
   "nbconvert_exporter": "python",
   "pygments_lexer": "ipython3",
   "version": "3.8.16"
  }
 },
 "nbformat": 4,
 "nbformat_minor": 5
}
